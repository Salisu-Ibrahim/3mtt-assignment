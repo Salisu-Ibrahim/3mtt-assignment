{
  "nbformat": 4,
  "nbformat_minor": 0,
  "metadata": {
    "colab": {
      "provenance": [],
      "authorship_tag": "ABX9TyMSJ838/4GvHg0D6DDcZo7e"
    },
    "kernelspec": {
      "name": "python3",
      "display_name": "Python 3"
    },
    "language_info": {
      "name": "python"
    }
  },
  "cells": [
    {
      "cell_type": "markdown",
      "source": [
        "Introduction to python"
      ],
      "metadata": {
        "id": "jrBeeXeN1YKq"
      }
    },
    {
      "cell_type": "code",
      "execution_count": 3,
      "metadata": {
        "colab": {
          "base_uri": "https://localhost:8080/"
        },
        "id": "klvATY1d0wIP",
        "outputId": "5b93aaf2-c1b8-4bd2-9a13-fca7d532ff93"
      },
      "outputs": [
        {
          "output_type": "stream",
          "name": "stdout",
          "text": [
            "100\n"
          ]
        }
      ],
      "source": [
        "# The below cell is for Interger data types\n",
        "Amount = 100\n",
        "print(Amount)"
      ]
    },
    {
      "cell_type": "code",
      "source": [
        "# String data types\n",
        "Name = ('Salisu Ibrahim')\n",
        "print(Name)"
      ],
      "metadata": {
        "colab": {
          "base_uri": "https://localhost:8080/"
        },
        "id": "y-w9xi1v2kFK",
        "outputId": "098fdfc6-1e5a-450c-e2c7-0a7b6dc80a51"
      },
      "execution_count": 9,
      "outputs": [
        {
          "output_type": "stream",
          "name": "stdout",
          "text": [
            "Salisu Ibrahim\n"
          ]
        }
      ]
    },
    {
      "cell_type": "code",
      "source": [
        "# This"
      ],
      "metadata": {
        "id": "NtNuJl_j4WVR"
      },
      "execution_count": null,
      "outputs": []
    },
    {
      "cell_type": "markdown",
      "source": [
        "I'm here to learn data analysis"
      ],
      "metadata": {
        "id": "Bvvau3PR4VkV"
      }
    },
    {
      "cell_type": "code",
      "source": [
        "I'm here to learn data analysis"
      ],
      "metadata": {
        "colab": {
          "base_uri": "https://localhost:8080/",
          "height": 140
        },
        "id": "ipQFKmLv4qDr",
        "outputId": "9e195853-0570-4097-f898-8320946ed6d6"
      },
      "execution_count": 5,
      "outputs": [
        {
          "output_type": "error",
          "ename": "SyntaxError",
          "evalue": "unterminated string literal (detected at line 1) (<ipython-input-5-13d862dcff9b>, line 1)",
          "traceback": [
            "\u001b[0;36m  File \u001b[0;32m\"<ipython-input-5-13d862dcff9b>\"\u001b[0;36m, line \u001b[0;32m1\u001b[0m\n\u001b[0;31m    I'm here to learn data analysis\u001b[0m\n\u001b[0m     ^\u001b[0m\n\u001b[0;31mSyntaxError\u001b[0m\u001b[0;31m:\u001b[0m unterminated string literal (detected at line 1)\n"
          ]
        }
      ]
    },
    {
      "cell_type": "markdown",
      "source": [],
      "metadata": {
        "id": "KmHb1DGk4Hdj"
      }
    }
  ]
}